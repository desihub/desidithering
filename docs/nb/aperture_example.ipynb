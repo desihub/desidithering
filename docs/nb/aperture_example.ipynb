{
 "cells": [
  {
   "cell_type": "markdown",
   "metadata": {},
   "source": [
    "# An example of moving the fiber in the fiberloss calculation"
   ]
  },
  {
   "cell_type": "markdown",
   "metadata": {},
   "source": [
    "This example is to illustrate how one can move the fiber in specsim\n",
    "It is basically another variable needed when initializing the fiberloss.GalsimFiberlossCalculator"
   ]
  },
  {
   "cell_type": "code",
   "execution_count": 1,
   "metadata": {},
   "outputs": [
    {
     "name": "stdout",
     "output_type": "stream",
     "text": [
      "imports complete\n"
     ]
    }
   ],
   "source": [
    "# general packages\n",
    "import os\n",
    "import numpy as np\n",
    "import matplotlib\n",
    "import matplotlib.pyplot as plt\n",
    "\n",
    "import astropy.units as u\n",
    "import astropy.table\n",
    "\n",
    "# specsim (DESI related packages)\n",
    "import specsim\n",
    "import specsim.quickspecsim as qspecsim\n",
    "import specsim.instrument as inst\n",
    "import specsim.source as src\n",
    "import specsim.config as conf\n",
    "import specsim.fiberloss as floss\n",
    "import specsim.observation as obs\n",
    "import specsim.simulator as sim\n",
    "import specsim.atmosphere as atm\n",
    "\n",
    "print('imports complete')"
   ]
  },
  {
   "cell_type": "code",
   "execution_count": 3,
   "metadata": {},
   "outputs": [
    {
     "name": "stdout",
     "output_type": "stream",
     "text": [
      "Downloading http://maia.usno.navy.mil/ser7/finals2000A.all [Done]\n",
      "desi-like model created\n"
     ]
    }
   ],
   "source": [
    "# Create a simulator object using the given configuration\n",
    "# desi = sim.Simulator('../../config/desi-blur-offset.yaml')\n",
    "desi = sim.Simulator(os.environ['DESI_PRODUCT_ROOT'] + '/desidithering/config/desi-blur-offset.yaml')\n",
    "print('desi-like model created')"
   ]
  },
  {
   "cell_type": "code",
   "execution_count": 4,
   "metadata": {},
   "outputs": [],
   "source": [
    "# function to generate the wavelength values\n",
    "def create_wlen_grid(num_wlen=40, desi=desi):\n",
    "    wavelength = desi.simulated['wavelength']\n",
    "    wlen_unit = wavelength.unit\n",
    "    return np.linspace(wavelength.data[0], wavelength.data[-1], num_wlen) * wlen_unit\n",
    "\n",
    "# function to generate mock sources\n",
    "def generate_source(disk_fraction=0., bulge_fraction=0., vary='', seed=23, minormajor=[1,1]):\n",
    "    gen = np.random.RandomState(seed)\n",
    "    varied = vary.split(',')\n",
    "    source_fraction = np.array([disk_fraction, bulge_fraction])\n",
    "    source_half_light_radius = np.array([0.45, 1.0])\n",
    "    source_minor_major_axis_ratio = np.array(minormajor)\n",
    "    if 'pa' in varied:\n",
    "        source_position_angle = 360. * gen.uniform(size=(1, 2))\n",
    "    else:\n",
    "        source_position_angle = np.array([0., 0.])\n",
    "    return source_fraction, source_half_light_radius, source_minor_major_axis_ratio, source_position_angle"
   ]
  },
  {
   "cell_type": "code",
   "execution_count": 5,
   "metadata": {},
   "outputs": [],
   "source": [
    "# some constants\n",
    "num_pixels = 32\n",
    "oversampling = 32\n",
    "wlen_grid = create_wlen_grid()"
   ]
  },
  {
   "cell_type": "code",
   "execution_count": 6,
   "metadata": {},
   "outputs": [],
   "source": [
    "focal_x, focal_y    = desi.observation.locate_on_focal_plane(desi.source.sky_position, desi.instrument)\n",
    "scale, blur, offset = desi.instrument.get_focal_plane_optics([focal_x.value]*u.mm, [focal_y.value]*u.mm, wlen_grid)\n",
    "seeing_fwhm         = desi.atmosphere.get_seeing_fwhm(wlen_grid).to(u.arcsec).value\n",
    "source              = generate_source()\n",
    "fiber_diameter      = desi.instrument.fiber_diameter.to(u.um).value"
   ]
  },
  {
   "cell_type": "code",
   "execution_count": 7,
   "metadata": {
    "scrolled": true
   },
   "outputs": [],
   "source": [
    "def plot_aperture(galsim_obj):\n",
    "    aperture = galsim_obj.aperture\n",
    "    x = []\n",
    "    y = []\n",
    "    c = []\n",
    "    for i in range(num_pixels):\n",
    "        for j in range(num_pixels):\n",
    "            x.append( (j+1) * fiber_diameter/(num_pixels) - fiber_diameter/(2.))\n",
    "            y.append( (i+1) * fiber_diameter/(num_pixels) - fiber_diameter/(2.))\n",
    "            c.append( aperture[i][j] )\n",
    "    x = np.array(x)\n",
    "    y = np.array(y)\n",
    "    c = np.array(c)\n",
    "    plt.clf()\n",
    "    plt.hist2d(x, y, weights=c, bins=num_pixels)\n",
    "    plt.axes().set_aspect('equal')\n",
    "    plt.xlabel(\"X position [um]\")\n",
    "    plt.ylabel(\"Y position [um]\")\n",
    "    plt.colorbar()\n",
    "    plt.savefig(\"aperture.pdf\", bbox_layout='tight')\n",
    "    plt.show()"
   ]
  },
  {
   "cell_type": "code",
   "execution_count": 8,
   "metadata": {},
   "outputs": [
    {
     "name": "stderr",
     "output_type": "stream",
     "text": [
      "/Users/abbymkaplan/anaconda3/envs/desi/lib/python3.6/site-packages/matplotlib/cbook/deprecation.py:107: MatplotlibDeprecationWarning: Adding an axes using the same arguments as a previous axes currently reuses the earlier instance.  In a future version, a new instance will always be created and returned.  Meanwhile, this warning can be suppressed, and the future behavior ensured, by passing a unique label to each axes instance.\n",
      "  warnings.warn(message, mplDeprecation, stacklevel=1)\n"
     ]
    },
    {
     "data": {
      "image/png": "[encoded data removed]",
      "text/plain": [
       "<Figure size 432x288 with 2 Axes>"
      ]
     },
     "metadata": {},
     "output_type": "display_data"
    }
   ],
   "source": [
    "# this is where the magic happens\n",
    "cGalsim = floss.GalsimFiberlossCalculator(desi.instrument.fiber_diameter.to(u.um).value,\n",
    "                                          wlen_grid.to(u.Angstrom).value,\n",
    "                                          num_pixels=num_pixels, oversampling=oversampling, moffat_beta=3.5, \n",
    "                                          fiber_placement=np.array([10, 10]))\n",
    "plot_aperture(cGalsim)"
   ]
  },
  {
   "cell_type": "code",
   "execution_count": null,
   "metadata": {
    "collapsed": true
   },
   "outputs": [],
   "source": []
  }
 ],
 "metadata": {
  "kernelspec": {
   "display_name": "Python [default]",
   "language": "python",
   "name": "python3"
  },
  "language_info": {
   "codemirror_mode": {
    "name": "ipython",
    "version": 3
   },
   "file_extension": ".py",
   "mimetype": "text/x-python",
   "name": "python",
   "nbconvert_exporter": "python",
   "pygments_lexer": "ipython3",
   "version": "3.6.5"
  }
 },
 "nbformat": 4,
 "nbformat_minor": 2
}
