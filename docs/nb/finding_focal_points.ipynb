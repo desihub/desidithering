{
 "cells": [
  {
   "cell_type": "code",
   "execution_count": 1,
   "metadata": {},
   "outputs": [],
   "source": [
    "import astropy.units as u\n",
    "import numpy as np\n",
    "import yaml\n",
    "import random\n",
    "import sys\n",
    "import scipy.optimize as opt\n",
    "import matplotlib.pyplot as plt\n",
    "# add dithering module to path and load it\n",
    "sys.path.append('./../../py')\n",
    "import dithering\n",
    "\n",
    "dithering = dithering.dithering(config_file=\"../../config/desi-noblur-nooffset.yaml\")"
   ]
  },
  {
   "cell_type": "markdown",
   "metadata": {},
   "source": [
    "The results show that the distributions are gaussian. It should be noted that this is independent of the choice of the random offsets even though it may seem so. The random offset distributions manifest on the number of events in each bin of the 2D histogram (shown in color bars)\n",
    "\n",
    "That having established, the script below randomly moves the fiber off the focal coordinates; then using the distributions above, the fiber will be moved 3 times (corresponding to 3 exposures) to find the correct focal coordinates maximizing SNR."
   ]
  },
  {
   "cell_type": "code",
   "execution_count": 2,
   "metadata": {
    "collapsed": true
   },
   "outputs": [],
   "source": [
    "# define the source to be observed\n",
    "source_type       = \"lrg\"\n",
    "half_light_radius = 0.7\n",
    "source_alt = 11.\n",
    "source_az  = 13.\n",
    "\n",
    "# define the observing conditions\n",
    "boresight_alt = 10.\n",
    "boresight_az  = 12.\n",
    "\n",
    "# generate the random offset but not reveal it to user until the end\n",
    "x_offset = random.gauss(0, 1.) * 30.\n",
    "y_offset = random.gauss(0, 1.) * 30."
   ]
  },
  {
   "cell_type": "code",
   "execution_count": 3,
   "metadata": {},
   "outputs": [],
   "source": [
    "# Generate the source to be observed\n",
    "if source_type == \"qso\" or source_type == \"QSO\":\n",
    "    source    = dithering.generate_source(disk_fraction=0., bulge_fraction=0., \n",
    "                                          half_light_disk=0., half_light_bulge=0.)\n",
    "elif source_type == \"elg\" or source_type == \"ELG\":\n",
    "    source    = dithering.generate_source(disk_fraction=1., bulge_fraction=0., \n",
    "                                          half_light_disk=half_light_radius, half_light_bulge=0.)\n",
    "elif source_type == \"lrg\" or source_type == \"LRG\":\n",
    "    source    = dithering.generate_source(disk_fraction=0., bulge_fraction=1., \n",
    "                                          half_light_disk=0., half_light_bulge=half_light_radius)"
   ]
  },
  {
   "cell_type": "code",
   "execution_count": 4,
   "metadata": {
    "scrolled": true
   },
   "outputs": [],
   "source": [
    "dithering.set_boresight_position(boresight_alt*u.deg, boresight_az*u.deg)\n",
    "dithering.set_source_position(source_alt*u.deg, source_az*u.deg)\n",
    "dithering.set_focal_plane_position()\n",
    "dithering.set_theta_0(-5.*u.deg)\n",
    "dithering.set_phi_0(10.*u.deg)\n",
    "SNR = []\n",
    "x   = []\n",
    "y   = []\n",
    "\n",
    "# initial point\n",
    "dithering.place_fiber([x_offset, y_offset])\n",
    "dithering.run_simulation(source_type, *source, report=False)\n",
    "SNR.append(np.median(dithering.SNR['b'][0]))\n",
    "x.append(0)\n",
    "y.append(0)\n",
    "# dithering\n",
    "num_dithering = 5\n",
    "search_radia = [35., 70.]\n",
    "for i in range(num_dithering):\n",
    "    x_dither = search_radia[0] * np.cos((360./num_dithering)*i*u.deg)\n",
    "    y_dither = search_radia[0] * np.sin((360./num_dithering)*i*u.deg)\n",
    "    dithering.place_fiber([x_offset+x_dither, y_offset+y_dither])\n",
    "    dithering.run_simulation(source_type, *source, report=False)\n",
    "    SNR.append(np.median(dithering.SNR['b'][0]))\n",
    "    x.append(x_dither)\n",
    "    y.append(y_dither)\n",
    "    x_dither = search_radia[1] * np.cos((360./num_dithering)*i*u.deg)\n",
    "    y_dither = search_radia[1] * np.sin((360./num_dithering)*i*u.deg)\n",
    "    dithering.place_fiber([x_offset+x_dither, y_offset+y_dither])\n",
    "    dithering.run_simulation(source_type, *source, report=False)\n",
    "    SNR.append(np.median(dithering.SNR['b'][0]))\n",
    "    x.append(x_dither)\n",
    "    y.append(y_dither)"
   ]
  },
  {
   "cell_type": "code",
   "execution_count": 5,
   "metadata": {},
   "outputs": [
    {
     "data": {
      "image/png": "[encoded data removed]",
      "text/plain": [
       "<matplotlib.figure.Figure at 0x7fa5df31de48>"
      ]
     },
     "metadata": {},
     "output_type": "display_data"
    }
   ],
   "source": [
    "plt.hist2d(x, y, weights=SNR, bins=num_dithering*2)\n",
    "plt.colorbar()\n",
    "plt.show()"
   ]
  },
  {
   "cell_type": "code",
   "execution_count": 6,
   "metadata": {},
   "outputs": [],
   "source": [
    "def twoD_Gaussian(xy_tuple, amplitude, xo, yo):\n",
    "    (x, y) = xy_tuple\n",
    "    xo = float(xo)\n",
    "    yo = float(yo)\n",
    "    amplitude = float(amplitude)\n",
    "    sigma_x = 70\n",
    "    sigma_y = 70\n",
    "    g = amplitude * np.exp( - ( (x-xo)**2/(2*sigma_x**2) + (y-yo)**2/(2*sigma_y**2) ) )#            ((x-xo)/sigma_x**2) - ((y-yo)/sigma_y**2))\n",
    "    return g.ravel()"
   ]
  },
  {
   "cell_type": "code",
   "execution_count": 7,
   "metadata": {},
   "outputs": [
    {
     "name": "stdout",
     "output_type": "stream",
     "text": [
      "Optimization found the following:\n",
      "boresight position is   : 10.000 deg , 12.000 deg\n",
      "source position is      : 11.000 deg , 13.000 deg\n",
      "fiber position is       : 248.752 mm , 253.785 mm\n",
      "focal plane position is : 248.752 mm , 253.785 mm\n",
      "fiber placement         : -2.825495130994697 um, 5.696235675009897 um\n",
      "With the current configuration, SNR are:\n",
      "-- camera b: 1.077 / 0.5 Angstrom\n",
      "-- camera r: 0.858 / 0.5 Angstrom\n",
      "-- camera z: 0.625 / 0.5 Angstrom\n",
      "If there was not error (offset):\n",
      "boresight position is   : 10.000 deg , 12.000 deg\n",
      "source position is      : 11.000 deg , 13.000 deg\n",
      "fiber position is       : 248.752 mm , 253.785 mm\n",
      "focal plane position is : 248.752 mm , 253.785 mm\n",
      "fiber placement         : 0.0 um, 0.0 um\n",
      "With the current configuration, SNR are:\n",
      "-- camera b: 1.102 / 0.5 Angstrom\n",
      "-- camera r: 0.877 / 0.5 Angstrom\n",
      "-- camera z: 0.639 / 0.5 Angstrom\n"
     ]
    }
   ],
   "source": [
    "coordinates = np.vstack((np.array(x).ravel(), np.array(y).ravel()))\n",
    "data = np.array(SNR).ravel()\n",
    "initial_guess = (2., -5., -5.)\n",
    "popt, pcov = opt.curve_fit(twoD_Gaussian, coordinates, data, p0=initial_guess)\n",
    "print(\"Optimization found the following:\")\n",
    "dithering.place_fiber([x_offset+popt[1], y_offset+popt[2]])\n",
    "dithering.run_simulation(source_type, *source, report=True)\n",
    "print(\"If there was not error (offset):\")\n",
    "dithering.place_fiber([0., 0.])\n",
    "dithering.run_simulation(source_type, *source, report=True)"
   ]
  },
  {
   "cell_type": "code",
   "execution_count": null,
   "metadata": {
    "collapsed": true
   },
   "outputs": [],
   "source": []
  }
 ],
 "metadata": {
  "kernelspec": {
   "display_name": "Python 3",
   "language": "python",
   "name": "python3"
  },
  "language_info": {
   "codemirror_mode": {
    "name": "ipython",
    "version": 3
   },
   "file_extension": ".py",
   "mimetype": "text/x-python",
   "name": "python",
   "nbconvert_exporter": "python",
   "pygments_lexer": "ipython3",
   "version": "3.5.3"
  }
 },
 "nbformat": 4,
 "nbformat_minor": 2
}
