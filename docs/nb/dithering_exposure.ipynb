{
 "cells": [
  {
   "cell_type": "markdown",
   "metadata": {},
   "source": [
    "\n",
    "# Exposure Calculations\n",
    "In this notebook, one can set a sky position to look at (boresight position) and a source (with profile and position) and study the effect of possible telescope dithering on the required exposure time.\n"
   ]
  },
  {
   "cell_type": "code",
   "execution_count": 1,
   "metadata": {},
   "outputs": [],
   "source": [
    "import astropy.units as u\n",
    "import matplotlib.pyplot as plt\n",
    "import numpy as np\n",
    "import sys\n",
    "import os\n",
    "sys.path.append('../../py')\n",
    "import dithering\n",
    "from scipy.interpolate import interp1d"
   ]
  },
  {
   "cell_type": "markdown",
   "metadata": {},
   "source": [
    "\n",
    "After the general packages and the special package \"dithering\" is imported, one start with setting the source and boresight positions. By default, \"generate_source()\" function generates a source like a QSO. For other types of sources, you can uncomment/comment the lines below.\n"
   ]
  },
  {
   "cell_type": "markdown",
   "metadata": {},
   "source": [
    "### Constructing the object\n",
    "\n",
    "One can uncomment/comment a source below to study"
   ]
  },
  {
   "cell_type": "code",
   "execution_count": 5,
   "metadata": {},
   "outputs": [
    {
     "ename": "ValueError",
     "evalue": "A value in x_new is above the interpolation range.",
     "output_type": "error",
     "traceback": [
      "\u001b[0;31m---------------------------------------------------------------------------\u001b[0m",
      "\u001b[0;31mValueError\u001b[0m                                Traceback (most recent call last)",
      "\u001b[0;32m<ipython-input-5-aa85140ea2e7>\u001b[0m in \u001b[0;36m<module>\u001b[0;34m()\u001b[0m\n\u001b[1;32m     13\u001b[0m \u001b[0mdit\u001b[0m\u001b[0;34m.\u001b[0m\u001b[0mset_boresight_position\u001b[0m\u001b[0;34m(\u001b[0m\u001b[0;36m20.\u001b[0m\u001b[0;34m*\u001b[0m\u001b[0mu\u001b[0m\u001b[0;34m.\u001b[0m\u001b[0mdeg\u001b[0m\u001b[0;34m,\u001b[0m \u001b[0;36m24.5\u001b[0m\u001b[0;34m*\u001b[0m\u001b[0mu\u001b[0m\u001b[0;34m.\u001b[0m\u001b[0mdeg\u001b[0m\u001b[0;34m)\u001b[0m\u001b[0;34m\u001b[0m\u001b[0m\n\u001b[1;32m     14\u001b[0m \u001b[0mdit\u001b[0m\u001b[0;34m.\u001b[0m\u001b[0mset_focal_plane_position\u001b[0m\u001b[0;34m(\u001b[0m\u001b[0;34m)\u001b[0m\u001b[0;34m\u001b[0m\u001b[0m\n\u001b[0;32m---> 15\u001b[0;31m \u001b[0mdit\u001b[0m\u001b[0;34m.\u001b[0m\u001b[0mrun_simulation\u001b[0m\u001b[0;34m(\u001b[0m\u001b[0msource_type\u001b[0m\u001b[0;34m,\u001b[0m \u001b[0;34m*\u001b[0m\u001b[0msource\u001b[0m\u001b[0;34m,\u001b[0m \u001b[0mreport\u001b[0m\u001b[0;34m=\u001b[0m\u001b[0;32mFalse\u001b[0m\u001b[0;34m)\u001b[0m\u001b[0;34m\u001b[0m\u001b[0m\n\u001b[0m\u001b[1;32m     16\u001b[0m \u001b[0msnr\u001b[0m \u001b[0;34m=\u001b[0m \u001b[0mdit\u001b[0m\u001b[0;34m.\u001b[0m\u001b[0mSNR\u001b[0m\u001b[0;34m\u001b[0m\u001b[0m\n",
      "\u001b[0;32m~/desi/code/desidithering/py/dithering.py\u001b[0m in \u001b[0;36mrun_simulation\u001b[0;34m(self, source_type, source_fraction, source_half_light_radius, source_minor_major_axis_ratio, source_position_angle, report, seeing_fwhm_ref_offset, airmass_offset)\u001b[0m\n\u001b[1;32m    276\u001b[0m         \u001b[0mself\u001b[0m\u001b[0;34m.\u001b[0m\u001b[0mdesi\u001b[0m\u001b[0;34m.\u001b[0m\u001b[0matmosphere\u001b[0m\u001b[0;34m.\u001b[0m\u001b[0mseeing_fwhm_ref\u001b[0m \u001b[0;34m+=\u001b[0m \u001b[0mseeing_fwhm_ref_offset\u001b[0m\u001b[0;34m\u001b[0m\u001b[0m\n\u001b[1;32m    277\u001b[0m         \u001b[0mself\u001b[0m\u001b[0;34m.\u001b[0m\u001b[0mdesi\u001b[0m\u001b[0;34m.\u001b[0m\u001b[0matmosphere\u001b[0m\u001b[0;34m.\u001b[0m\u001b[0mairmass\u001b[0m         \u001b[0;34m+=\u001b[0m \u001b[0mairmass_offset\u001b[0m\u001b[0;34m\u001b[0m\u001b[0m\n\u001b[0;32m--> 278\u001b[0;31m         \u001b[0mself\u001b[0m\u001b[0;34m.\u001b[0m\u001b[0mget_fiber_acceptance_fraction\u001b[0m\u001b[0;34m(\u001b[0m\u001b[0msource_type\u001b[0m\u001b[0;34m,\u001b[0m \u001b[0msource_fraction\u001b[0m\u001b[0;34m,\u001b[0m \u001b[0msource_half_light_radius\u001b[0m\u001b[0;34m,\u001b[0m \u001b[0msource_minor_major_axis_ratio\u001b[0m\u001b[0;34m,\u001b[0m \u001b[0msource_position_angle\u001b[0m\u001b[0;34m)\u001b[0m\u001b[0;34m\u001b[0m\u001b[0m\n\u001b[0m\u001b[1;32m    279\u001b[0m         \u001b[0mself\u001b[0m\u001b[0;34m.\u001b[0m\u001b[0mdesi\u001b[0m\u001b[0;34m.\u001b[0m\u001b[0msimulate\u001b[0m\u001b[0;34m(\u001b[0m\u001b[0mfiber_acceptance_fraction\u001b[0m\u001b[0;34m=\u001b[0m\u001b[0mself\u001b[0m\u001b[0;34m.\u001b[0m\u001b[0mfiber_acceptance_fraction\u001b[0m\u001b[0;34m)\u001b[0m\u001b[0;34m\u001b[0m\u001b[0m\n\u001b[1;32m    280\u001b[0m         \u001b[0mself\u001b[0m\u001b[0;34m.\u001b[0m\u001b[0mSNR\u001b[0m \u001b[0;34m=\u001b[0m \u001b[0;34m{\u001b[0m\u001b[0;34m}\u001b[0m\u001b[0;34m\u001b[0m\u001b[0m\n",
      "\u001b[0;32m~/desi/code/desidithering/py/dithering.py\u001b[0m in \u001b[0;36mget_fiber_acceptance_fraction\u001b[0;34m(self, source_type, source_fraction, source_half_light_radius, source_minor_major_axis_ratio, source_position_angle)\u001b[0m\n\u001b[1;32m    246\u001b[0m                                                                                    \u001b[0msource_type\u001b[0m\u001b[0;34m,\u001b[0m \u001b[0msource_fraction\u001b[0m\u001b[0;34m,\u001b[0m \u001b[0msource_half_light_radius\u001b[0m\u001b[0;34m,\u001b[0m\u001b[0;34m\u001b[0m\u001b[0m\n\u001b[1;32m    247\u001b[0m                                                                                    \u001b[0msource_minor_major_axis_ratio\u001b[0m\u001b[0;34m,\u001b[0m\u001b[0;34m\u001b[0m\u001b[0m\n\u001b[0;32m--> 248\u001b[0;31m                                                                                    source_position_angle, fiber_placement=self.fiber_placement)\n\u001b[0m\u001b[1;32m    249\u001b[0m \u001b[0;34m\u001b[0m\u001b[0m\n\u001b[1;32m    250\u001b[0m \u001b[0;34m\u001b[0m\u001b[0m\n",
      "\u001b[0;32m~/desi/code/specsim/specsim/fiberloss.py\u001b[0m in \u001b[0;36mcalculate_fiber_acceptance_fraction\u001b[0;34m(focal_x, focal_y, wavelength, source, atmosphere, instrument, source_types, source_fraction, source_half_light_radius, source_minor_major_axis_ratio, source_position_angle, oversampling, saved_images_file, saved_table_file, fiber_placement)\u001b[0m\n\u001b[1;32m    401\u001b[0m     \u001b[0;31m# Calculate the focal-plane optics at the fiber locations.\u001b[0m\u001b[0;34m\u001b[0m\u001b[0;34m\u001b[0m\u001b[0m\n\u001b[1;32m    402\u001b[0m     scale, blur, offset = instrument.get_focal_plane_optics(\n\u001b[0;32m--> 403\u001b[0;31m         focal_x, focal_y, wlen_grid)\n\u001b[0m\u001b[1;32m    404\u001b[0m \u001b[0;34m\u001b[0m\u001b[0m\n\u001b[1;32m    405\u001b[0m     \u001b[0;31m# Calculate the atmospheric seeing at each wavelength.\u001b[0m\u001b[0;34m\u001b[0m\u001b[0;34m\u001b[0m\u001b[0m\n",
      "\u001b[0;32m~/desi/code/specsim/specsim/instrument.py\u001b[0m in \u001b[0;36mget_focal_plane_optics\u001b[0;34m(self, focal_x, focal_y, wlen_grid)\u001b[0m\n\u001b[1;32m    368\u001b[0m         \u001b[0;31m# Convert x, y offsets in length units to field angles.\u001b[0m\u001b[0;34m\u001b[0m\u001b[0;34m\u001b[0m\u001b[0m\n\u001b[1;32m    369\u001b[0m         angle_x = (np.sign(focal_x_mm) *\n\u001b[0;32m--> 370\u001b[0;31m                    self.field_radius_to_angle(np.abs(focal_x)))\n\u001b[0m\u001b[1;32m    371\u001b[0m         angle_y = (np.sign(focal_y_mm) *\n\u001b[1;32m    372\u001b[0m                    self.field_radius_to_angle(np.abs(focal_y)))\n",
      "\u001b[0;32m~/desi/code/specsim/specsim/instrument.py\u001b[0m in \u001b[0;36mfield_radius_to_angle\u001b[0;34m(self, radius)\u001b[0m\n\u001b[1;32m    226\u001b[0m         \"\"\"\n\u001b[1;32m    227\u001b[0m         return self._radius_to_angle(\n\u001b[0;32m--> 228\u001b[0;31m             radius.to(self._radius_unit)) * self._angle_unit\n\u001b[0m\u001b[1;32m    229\u001b[0m \u001b[0;34m\u001b[0m\u001b[0m\n\u001b[1;32m    230\u001b[0m \u001b[0;34m\u001b[0m\u001b[0m\n",
      "\u001b[0;32m~/anaconda3/envs/desi/lib/python3.6/site-packages/scipy/interpolate/polyint.py\u001b[0m in \u001b[0;36m__call__\u001b[0;34m(self, x)\u001b[0m\n\u001b[1;32m     77\u001b[0m         \"\"\"\n\u001b[1;32m     78\u001b[0m         \u001b[0mx\u001b[0m\u001b[0;34m,\u001b[0m \u001b[0mx_shape\u001b[0m \u001b[0;34m=\u001b[0m \u001b[0mself\u001b[0m\u001b[0;34m.\u001b[0m\u001b[0m_prepare_x\u001b[0m\u001b[0;34m(\u001b[0m\u001b[0mx\u001b[0m\u001b[0;34m)\u001b[0m\u001b[0;34m\u001b[0m\u001b[0m\n\u001b[0;32m---> 79\u001b[0;31m         \u001b[0my\u001b[0m \u001b[0;34m=\u001b[0m \u001b[0mself\u001b[0m\u001b[0;34m.\u001b[0m\u001b[0m_evaluate\u001b[0m\u001b[0;34m(\u001b[0m\u001b[0mx\u001b[0m\u001b[0;34m)\u001b[0m\u001b[0;34m\u001b[0m\u001b[0m\n\u001b[0m\u001b[1;32m     80\u001b[0m         \u001b[0;32mreturn\u001b[0m \u001b[0mself\u001b[0m\u001b[0;34m.\u001b[0m\u001b[0m_finish_y\u001b[0m\u001b[0;34m(\u001b[0m\u001b[0my\u001b[0m\u001b[0;34m,\u001b[0m \u001b[0mx_shape\u001b[0m\u001b[0;34m)\u001b[0m\u001b[0;34m\u001b[0m\u001b[0m\n\u001b[1;32m     81\u001b[0m \u001b[0;34m\u001b[0m\u001b[0m\n",
      "\u001b[0;32m~/anaconda3/envs/desi/lib/python3.6/site-packages/scipy/interpolate/interpolate.py\u001b[0m in \u001b[0;36m_evaluate\u001b[0;34m(self, x_new)\u001b[0m\n\u001b[1;32m    662\u001b[0m         \u001b[0my_new\u001b[0m \u001b[0;34m=\u001b[0m \u001b[0mself\u001b[0m\u001b[0;34m.\u001b[0m\u001b[0m_call\u001b[0m\u001b[0;34m(\u001b[0m\u001b[0mself\u001b[0m\u001b[0;34m,\u001b[0m \u001b[0mx_new\u001b[0m\u001b[0;34m)\u001b[0m\u001b[0;34m\u001b[0m\u001b[0m\n\u001b[1;32m    663\u001b[0m         \u001b[0;32mif\u001b[0m \u001b[0;32mnot\u001b[0m \u001b[0mself\u001b[0m\u001b[0;34m.\u001b[0m\u001b[0m_extrapolate\u001b[0m\u001b[0;34m:\u001b[0m\u001b[0;34m\u001b[0m\u001b[0m\n\u001b[0;32m--> 664\u001b[0;31m             \u001b[0mbelow_bounds\u001b[0m\u001b[0;34m,\u001b[0m \u001b[0mabove_bounds\u001b[0m \u001b[0;34m=\u001b[0m \u001b[0mself\u001b[0m\u001b[0;34m.\u001b[0m\u001b[0m_check_bounds\u001b[0m\u001b[0;34m(\u001b[0m\u001b[0mx_new\u001b[0m\u001b[0;34m)\u001b[0m\u001b[0;34m\u001b[0m\u001b[0m\n\u001b[0m\u001b[1;32m    665\u001b[0m             \u001b[0;32mif\u001b[0m \u001b[0mlen\u001b[0m\u001b[0;34m(\u001b[0m\u001b[0my_new\u001b[0m\u001b[0;34m)\u001b[0m \u001b[0;34m>\u001b[0m \u001b[0;36m0\u001b[0m\u001b[0;34m:\u001b[0m\u001b[0;34m\u001b[0m\u001b[0m\n\u001b[1;32m    666\u001b[0m                 \u001b[0;31m# Note fill_value must be broadcast up to the proper size\u001b[0m\u001b[0;34m\u001b[0m\u001b[0;34m\u001b[0m\u001b[0m\n",
      "\u001b[0;32m~/anaconda3/envs/desi/lib/python3.6/site-packages/scipy/interpolate/interpolate.py\u001b[0m in \u001b[0;36m_check_bounds\u001b[0;34m(self, x_new)\u001b[0m\n\u001b[1;32m    694\u001b[0m                              \"range.\")\n\u001b[1;32m    695\u001b[0m         \u001b[0;32mif\u001b[0m \u001b[0mself\u001b[0m\u001b[0;34m.\u001b[0m\u001b[0mbounds_error\u001b[0m \u001b[0;32mand\u001b[0m \u001b[0mabove_bounds\u001b[0m\u001b[0;34m.\u001b[0m\u001b[0many\u001b[0m\u001b[0;34m(\u001b[0m\u001b[0;34m)\u001b[0m\u001b[0;34m:\u001b[0m\u001b[0;34m\u001b[0m\u001b[0m\n\u001b[0;32m--> 696\u001b[0;31m             raise ValueError(\"A value in x_new is above the interpolation \"\n\u001b[0m\u001b[1;32m    697\u001b[0m                              \"range.\")\n\u001b[1;32m    698\u001b[0m \u001b[0;34m\u001b[0m\u001b[0m\n",
      "\u001b[0;31mValueError\u001b[0m: A value in x_new is above the interpolation range."
     ]
    }
   ],
   "source": [
    "#dit    = dithering.dithering(\"../../config/desi-noblur-nooffset.yaml\")\n",
    "dit    = dithering.dithering(os.environ['DESI_PRODUCT_ROOT'] + '/desidithering/config/desi-noblur-nooffset.yaml')\n",
    "# QSO\n",
    "#source = dit.generate_source(disk_fraction=0., bulge_fraction=0.)\n",
    "#source_type = 'qso'\n",
    "# ELG\n",
    "source = dit.generate_source(disk_fraction=1., bulge_fraction=0., half_light_disk=0.5, half_light_bulge=0.)\n",
    "source_type = 'elg'\n",
    "# LRG\n",
    "#source = dit.generate_source(disk_fraction=0., bulge_fraction=1.)\n",
    "#source_type = 'lrg'\n",
    "dit.set_source_position(20.*u.deg, 25.*u.deg)\n",
    "dit.set_boresight_position(20.*u.deg, 24.5*u.deg)\n",
    "dit.set_focal_plane_position()\n",
    "dit.run_simulation(source_type, *source, report=False)\n",
    "snr = dit.SNR"
   ]
  },
  {
   "cell_type": "markdown",
   "metadata": {},
   "source": [
    "### Moving the telescope\n",
    "This is where the <b>magic</b> happens. The fiber is positioned at the original focal plane coordinates. When one changes the boresight position, the package automatically calculates the new focal plane coordinates along with the fiber placement offset. This offset is used to move the fiber (in turn the aperture in the fiber acceptance calculations).\n",
    "In the example below, the altitude boresight is changed by <b>0.05</b> degree. "
   ]
  },
  {
   "cell_type": "code",
   "execution_count": 3,
   "metadata": {
    "collapsed": true,
    "scrolled": false
   },
   "outputs": [],
   "source": [
    "dit.change_alt_az_bore_position(20.*u.deg, 24.5*u.deg+1*u.arcsec)\n",
    "dit.run_simulation(source_type, *source, report=False)"
   ]
  },
  {
   "cell_type": "markdown",
   "metadata": {},
   "source": [
    "### Calculate SNR.vs.exposure and estimating exposure time required\n",
    "\n",
    "The telescope has moved by 1 arcsec. This might be an actually systematic problem. We scan the required exposure to get the same SNR as if everything was perfectly aligned "
   ]
  },
  {
   "cell_type": "code",
   "execution_count": 4,
   "metadata": {
    "scrolled": false
   },
   "outputs": [
    {
     "name": "stdout",
     "output_type": "stream",
     "text": [
      "Exposure time was set to 1800.0 s in the configuration file\n",
      "Corresponding SNRs are:\n",
      "--- camera b: 1.441\n",
      "--- camera r: 1.150\n",
      "--- camera z: 0.839\n",
      "When the telescope is moved, SNR changes to:\n",
      "--- camera b: 0.455\n",
      "--- camera r: 0.357\n",
      "--- camera z: 0.257\n",
      "To get the same SNR at the current location, required exposure is:\n",
      "--- camera b: 16042.741995035612\n",
      "--- camera r: 16771.12961763271\n",
      "--- camera z: 16834.621730760475\n"
     ]
    },
    {
     "name": "stderr",
     "output_type": "stream",
     "text": [
      "/home/tyapici/Projects/desi/code/specsim/specsim/transform.py:593: UserWarning: Refraction model is inaccurate for altitudes below 5.0 deg.\n",
      "  .format(low_altitude_threshold))\n"
     ]
    }
   ],
   "source": [
    "print(\"Exposure time was set to {0} in the configuration file\".format(dit.desi.observation.exposure_time))\n",
    "print(\"Corresponding SNRs are:\")\n",
    "for camera in snr:\n",
    "    print(\"--- camera {0}: {1:.3f}\".format(camera, np.median(snr[camera][0])))\n",
    "print(\"When the telescope is moved, SNR changes to:\")\n",
    "for camera in dit.SNR:\n",
    "    print(\"--- camera {0}: {1:.3f}\".format(camera, np.median(dit.SNR[camera][0])))\n",
    "    \n",
    "exposure_time = 100.*u.s\n",
    "exposure_times = np.logspace(np.log10(exposure_time.value), np.log10(exposure_time.value)+3, 20)\n",
    "x = []\n",
    "y_b = []\n",
    "y_r = []\n",
    "y_z = []\n",
    "interpolator = {}\n",
    "for i in range(20):\n",
    "    dit.desi.observation.exposure_time = exposure_times[i]*u.s\n",
    "    dit.run_simulation(source_type, *source, report=False)\n",
    "    x.append(exposure_times[i])\n",
    "    y_b.append(np.median(dit.SNR['b'][0]))\n",
    "    y_r.append(np.median(dit.SNR['r'][0]))\n",
    "    y_z.append(np.median(dit.SNR['z'][0]))\n",
    "interpolator['b'] = interp1d(y_b, x, fill_value='extrapolate')\n",
    "interpolator['r'] = interp1d(y_r, x, fill_value='extrapolate')\n",
    "interpolator['z'] = interp1d(y_z, x, fill_value='extrapolate')\n",
    "\n",
    "print(\"To get the same SNR at the current location, required exposure is:\")\n",
    "for camera in dit.SNR:\n",
    "    print(\"--- camera {0}: {1}\".format(camera, interpolator[camera](np.median(snr[camera][0]))))\n"
   ]
  }
 ],
 "metadata": {
  "kernelspec": {
   "display_name": "Python [default]",
   "language": "python",
   "name": "python3"
  },
  "language_info": {
   "codemirror_mode": {
    "name": "ipython",
    "version": 3
   },
   "file_extension": ".py",
   "mimetype": "text/x-python",
   "name": "python",
   "nbconvert_exporter": "python",
   "pygments_lexer": "ipython3",
   "version": "3.6.5"
  }
 },
 "nbformat": 4,
 "nbformat_minor": 2
}
