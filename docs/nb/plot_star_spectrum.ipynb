{
 "cells": [
  {
   "cell_type": "markdown",
   "metadata": {},
   "source": [
    "# Star spectrum"
   ]
  },
  {
   "cell_type": "code",
   "execution_count": 23,
   "metadata": {},
   "outputs": [],
   "source": [
    "import numpy as np\n",
    "import matplotlib.pyplot as plt\n",
    "import glob\n",
    "import fitsio\n",
    "from desitarget import desi_mask"
   ]
  },
  {
   "cell_type": "code",
   "execution_count": 39,
   "metadata": {},
   "outputs": [
    {
     "name": "stdout",
     "output_type": "stream",
     "text": [
      "/home/tyapici/data/DESI/spectro/redux/dc17a2/spectra-64/168/16890/spectra-64-16890.fits\n",
      "[  57.02455139   84.96831512   89.38928986 ...,  109.22712708  112.32146454\n",
      "   86.37656403]\n"
     ]
    }
   ],
   "source": [
    "# this is a path to the directory where the spectra are\n",
    "# it should be changed for different users\n",
    "base_dir = \"/home/tyapici/data/DESI/spectro/redux/dc17a2/spectra-64\"\n",
    "subfolder_fulldir = glob.glob(base_dir+\"/*\")\n",
    "for fulldir in subfolder_fulldir:\n",
    "    spec_filenames = glob.glob(fulldir+\"/*/spectra*\")\n",
    "    for filename in spec_filenames:\n",
    "        print(filename)\n",
    "        spec = fitsio.read(filename, 1)\n",
    "        wlens_b = fitsio.read(filename, \"B_WAVELENGTH\")\n",
    "        flux_b  = fitsio.read(filename, \"B_FLUX\")\n",
    "        wlens_r = fitsio.read(filename, \"R_WAVELENGTH\")\n",
    "        flux_r  = fitsio.read(filename, \"R_FLUX\")\n",
    "        wlens_z = fitsio.read(filename, \"Z_WAVELENGTH\")\n",
    "        flux_z  = fitsio.read(filename, \"Z_FLUX\")\n",
    "        stars   = np.where(spec[\"DESI_TARGET\"] & desi_mask[\"STD_FSTAR\"])[0]\n",
    "        for idx in range(len(stars)):\n",
    "            plt.clf()\n",
    "            print(flux_b[stars[idx]])\n",
    "            break\n",
    "            plt.plot(wlens_b, flux_b[stars[idx]])\n",
    "            plt.xlabel(\"Wavelength [$\\AA$]\")\n",
    "            plt.ylabel(\"Flux\")\n",
    "            figure_name = \"figures/\"+filename.split(\"/\")[-1].split(\".fits\")[0]+\"_{}\".format(idx)\n",
    "            plt.savefig(figure_name+\".pdf\")\n",
    "        break\n",
    "    break"
   ]
  },
  {
   "cell_type": "code",
   "execution_count": null,
   "metadata": {
    "collapsed": true
   },
   "outputs": [],
   "source": []
  }
 ],
 "metadata": {
  "kernelspec": {
   "display_name": "Python 3",
   "language": "python",
   "name": "python3"
  },
  "language_info": {
   "codemirror_mode": {
    "name": "ipython",
    "version": 3
   },
   "file_extension": ".py",
   "mimetype": "text/x-python",
   "name": "python",
   "nbconvert_exporter": "python",
   "pygments_lexer": "ipython3",
   "version": "3.5.3"
  }
 },
 "nbformat": 4,
 "nbformat_minor": 2
}
