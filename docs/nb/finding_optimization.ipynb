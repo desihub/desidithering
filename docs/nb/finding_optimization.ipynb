{
 "cells": [
  {
   "cell_type": "code",
   "execution_count": 14,
   "metadata": {
    "collapsed": true
   },
   "outputs": [],
   "source": [
    "import numpy as np\n",
    "import random\n",
    "import sys\n",
    "import scipy.optimize as opt\n",
    "import matplotlib.pyplot as plt\n",
    "from matplotlib import rcParams\n",
    "import astropy.units as u\n",
    "# general plotting options \n",
    "rcParams.update({'figure.autolayout': True})\n",
    "my_cmap = plt.cm.jet\n",
    "my_cmap.set_under('white',.01)\n",
    "my_cmap.set_over('white', 300)\n",
    "my_cmap.set_bad('white')\n"
   ]
  },
  {
   "cell_type": "code",
   "execution_count": 3,
   "metadata": {
    "collapsed": true
   },
   "outputs": [],
   "source": [
    "# generate the random offset but not reveal it to user until the end\n",
    "sigma    = 70\n",
    "x_offset = random.gauss(0, sigma)\n",
    "y_offset = random.gauss(0, sigma)"
   ]
  },
  {
   "cell_type": "code",
   "execution_count": 6,
   "metadata": {
    "collapsed": true
   },
   "outputs": [],
   "source": [
    "def twoD_Gaussian(xy_tuple, amplitude, xo, yo):\n",
    "    (x, y) = xy_tuple\n",
    "    xo = float(xo)\n",
    "    yo = float(yo)\n",
    "    amplitude = float(amplitude)\n",
    "    sigma_x = sigma\n",
    "    sigma_y = sigma\n",
    "    g = amplitude * np.exp( - ( (x-xo)**2/(2*sigma_x**2) + (y-yo)**2/(2*sigma_y**2) ) )#            ((x-xo)/sigma_x**2) - ((y-yo)/sigma_y**2))\n",
    "    return g.ravel()"
   ]
  },
  {
   "cell_type": "code",
   "execution_count": 44,
   "metadata": {
    "collapsed": true,
    "scrolled": true
   },
   "outputs": [],
   "source": [
    "check_angles = {0: [-30., -150.], 1: [-30., 90], 2: [-150., 90.], 3: [-30., -150.]}\n",
    "norm = 12.\n",
    "\n",
    "def run_simulation():\n",
    "    x = []\n",
    "    y = []\n",
    "    z = []\n",
    "    pos = []\n",
    "    # initial point\n",
    "    x_offset = random.gauss(0, sigma)\n",
    "    y_offset = random.gauss(0, sigma)\n",
    "    x.append(x_offset)\n",
    "    y.append(y_offset)\n",
    "    z.append(twoD_Gaussian((x_offset, y_offset), norm, 0., 0.)[0])\n",
    "    pos.append(0)\n",
    "    # next third iterations\n",
    "    # 1. \n",
    "    x_trial = x_offset + 50.*np.cos(30.*u.deg)\n",
    "    y_trial = y_offset + 50.*np.sin(30.*u.deg)\n",
    "    z_trial = twoD_Gaussian((x_trial, y_trial), norm, 0., 0.)[0]\n",
    "    x.append(x_trial.value); y.append(y_trial.value); z.append(z_trial)\n",
    "    pos.append(1)\n",
    "    # 2.\n",
    "    x_trial = x_offset - 50.*np.cos(30.*u.deg)\n",
    "    y_trial = y_offset + 50.*np.sin(30.*u.deg)\n",
    "    z_trial = twoD_Gaussian((x_trial, y_trial), norm, 0., 0.)[0]\n",
    "    x.append(x_trial.value); y.append(y_trial.value); z.append(z_trial)\n",
    "    pos.append(2)\n",
    "    # 3.\n",
    "    x_trial = x_offset \n",
    "    y_trial = y_offset - 50.\n",
    "    z_trial = twoD_Gaussian((x_trial, y_trial), norm, 0., 0.)[0]\n",
    "    x.append(x_trial); y.append(y_trial); z.append(z_trial)\n",
    "    pos.append(3)\n",
    "\n",
    "    max_idx = np.argmax(z)\n",
    "    new_angles = check_angles[max_idx]\n",
    "    for i in range(2):\n",
    "        x_trial = x_offset - 50.*np.cos(new_angles[i]*u.deg)\n",
    "        y_trial = y_offset + 50.*np.sin(new_angles[i]*u.deg)\n",
    "        z_trial = twoD_Gaussian((x_trial, y_trial), norm, 0., 0.)[0]\n",
    "        x.append(x_trial.value); y.append(y_trial.value); z.append(z_trial)\n",
    "\n",
    "    \"\"\"\n",
    "    plt.hist2d(x, y, weights=z, cmap=my_cmap)\n",
    "    plt.colorbar()\n",
    "    plt.xlim(-100., 100.)\n",
    "    plt.ylim(-100., 100.)\n",
    "    plt.show()\n",
    "    \"\"\"\n",
    "    initial_guess = (2., -5., -5.)\n",
    "    try:\n",
    "        popt, pcov = opt.curve_fit(twoD_Gaussian, (x, y), z, p0=initial_guess)\n",
    "    except:\n",
    "        print(\"NO CONVERGENCE\")\n",
    "    return popt"
   ]
  },
  {
   "cell_type": "code",
   "execution_count": 46,
   "metadata": {},
   "outputs": [
    {
     "name": "stderr",
     "output_type": "stream",
     "text": [
      "/home/tyapici/anaconda/anaconda3/envs/desi/lib/python3.5/site-packages/scipy/optimize/minpack.py:779: OptimizeWarning: Covariance of the parameters could not be estimated\n",
      "  category=OptimizeWarning)\n",
      "/home/tyapici/anaconda/anaconda3/envs/desi/lib/python3.5/site-packages/matplotlib/figure.py:1743: UserWarning: This figure includes Axes that are not compatible with tight_layout, so its results might be incorrect.\n",
      "  warnings.warn(\"This figure includes Axes that are not \"\n"
     ]
    },
    {
     "data": {
      "image/png": "[encoded data removed]",
      "text/plain": [
       "<matplotlib.figure.Figure at 0x7f49b43b1be0>"
      ]
     },
     "metadata": {},
     "output_type": "display_data"
    }
   ],
   "source": [
    "ns = []\n",
    "for i in range(100):\n",
    "    n, xo, yo = run_simulation()\n",
    "    ns.append(n)\n",
    "plt.hist(ns)\n",
    "plt.show()"
   ]
  },
  {
   "cell_type": "code",
   "execution_count": null,
   "metadata": {
    "collapsed": true
   },
   "outputs": [],
   "source": []
  }
 ],
 "metadata": {
  "kernelspec": {
   "display_name": "Python 3",
   "language": "python",
   "name": "python3"
  },
  "language_info": {
   "codemirror_mode": {
    "name": "ipython",
    "version": 3
   },
   "file_extension": ".py",
   "mimetype": "text/x-python",
   "name": "python",
   "nbconvert_exporter": "python",
   "pygments_lexer": "ipython3",
   "version": "3.5.3"
  }
 },
 "nbformat": 4,
 "nbformat_minor": 2
}
