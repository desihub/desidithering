{
 "cells": [
  {
   "cell_type": "markdown",
   "metadata": {},
   "source": [
    "\n",
    "# Exposure Calculations\n",
    "In this notebook, one can set a sky position to look at (boresight position) and a source (with profile and position) and study the effect of possible telescope dithering on the required exposure time.\n"
   ]
  },
  {
   "cell_type": "code",
   "execution_count": 1,
   "metadata": {
    "collapsed": true
   },
   "outputs": [],
   "source": [
    "import astropy.units as u\n",
    "import matplotlib.pyplot as plt\n",
    "import numpy as np\n",
    "import dithering\n",
    "from scipy.interpolate import interp1d"
   ]
  },
  {
   "cell_type": "markdown",
   "metadata": {},
   "source": [
    "\n",
    "After the general packages and the special package \"dithering\" is imported, one start with setting the source and boresight positions. By default, \"generate_source()\" function generates a source like a QSO. For other types of sources, you can uncomment/comment the lines below.\n"
   ]
  },
  {
   "cell_type": "markdown",
   "metadata": {},
   "source": [
    "### Constructing the object\n",
    "\n",
    "One can uncomment/comment a source below to study"
   ]
  },
  {
   "cell_type": "code",
   "execution_count": 2,
   "metadata": {
    "collapsed": true
   },
   "outputs": [],
   "source": [
    "dit    = dithering.dithering()\n",
    "# QSO\n",
    "#source = dit.generate_source(disk_fraction=0., bulge_fraction=0.)\n",
    "#source_type = 'qso'\n",
    "# ELG\n",
    "source = dit.generate_source(disk_fraction=1., bulge_fraction=0.)\n",
    "source_type = 'elg'\n",
    "# LRG\n",
    "#source = dit.generate_source(disk_fraction=0., bulge_fraction=1.)\n",
    "#source_type = 'lrg'\n",
    "dit.set_source_position(20.*u.deg, 25.*u.deg)\n",
    "dit.set_boresight_position(20.*u.deg, 24.5*u.deg)\n",
    "dit.set_focal_plane_position()\n",
    "dit.run_simulation(source_type, *source, report=False)\n",
    "snr = dit.SNR"
   ]
  },
  {
   "cell_type": "markdown",
   "metadata": {},
   "source": [
    "### Moving the telescope\n",
    "This is where the <b>magic</b> happens. The fiber is positioned at the original focal plane coordinates. When one changes the boresight position, the package automatically calculates the new focal plane coordinates along with the fiber placement offset. This offset is used to move the fiber (in turn the aperture in the fiber acceptance calculations).\n",
    "In the example below, the altitude boresight is changed by <b>0.05</b> degree. "
   ]
  },
  {
   "cell_type": "code",
   "execution_count": 3,
   "metadata": {
    "collapsed": true,
    "scrolled": false
   },
   "outputs": [],
   "source": [
    "dit.change_alt_az_bore_position(20.*u.deg, 24.5*u.deg+1*u.arcsec)\n",
    "dit.run_simulation(source_type, *source, report=False)"
   ]
  },
  {
   "cell_type": "markdown",
   "metadata": {},
   "source": [
    "### Calculate SNR.vs.exposure and estimating exposure time required\n",
    "\n",
    "The telescope has moved by 0.05 degrees. This might be an actually systematic problem. We scan the required exposure to get the same SNR as if everything was perfectly aligned "
   ]
  },
  {
   "cell_type": "code",
   "execution_count": 4,
   "metadata": {
    "scrolled": true
   },
   "outputs": [
    {
     "name": "stdout",
     "output_type": "stream",
     "text": [
      "Exposure time was set to 10000.0 s in the configuration file\n",
      "Corresponding SNRs are:\n",
      "--- camera b: 3.549\n",
      "--- camera z: 2.050\n",
      "--- camera r: 2.807\n",
      "When the telescope is moved, SNR changes to:\n",
      "--- camera b: 1.132\n",
      "--- camera z: 0.637\n",
      "--- camera r: 0.881\n",
      "To get the same SNR at the current location, required exposure is:\n",
      "--- camera b: 96206.17242632777\n",
      "--- camera z: 100422.85853447665\n",
      "--- camera r: 99402.59674700562\n"
     ]
    },
    {
     "name": "stderr",
     "output_type": "stream",
     "text": [
      "/home/tyapici/Projects/desi/code/specsim/specsim/transform.py:593: UserWarning: Refraction model is inaccurate for altitudes below 5.0 deg.\n",
      "  .format(low_altitude_threshold))\n"
     ]
    }
   ],
   "source": [
    "print(\"Exposure time was set to {0} in the configuration file\".format(dit.desi.observation.exposure_time))\n",
    "print(\"Corresponding SNRs are:\")\n",
    "for camera in snr:\n",
    "    print(\"--- camera {0}: {1:.3f}\".format(camera, np.median(snr[camera][0])))\n",
    "print(\"When the telescope is moved, SNR changes to:\")\n",
    "for camera in dit.SNR:\n",
    "    print(\"--- camera {0}: {1:.3f}\".format(camera, np.median(dit.SNR[camera][0])))\n",
    "    \n",
    "exposure_time = 100.*u.s\n",
    "exposure_times = np.logspace(np.log10(exposure_time.value), np.log10(exposure_time.value)+3, 20)\n",
    "x = []\n",
    "y_b = []\n",
    "y_r = []\n",
    "y_z = []\n",
    "interpolator = {}\n",
    "for i in range(20):\n",
    "    dit.desi.observation.exposure_time = exposure_times[i]*u.s\n",
    "    dit.run_simulation(source_type, *source, report=False)\n",
    "    x.append(exposure_times[i])\n",
    "    y_b.append(np.median(dit.SNR['b'][0]))\n",
    "    y_r.append(np.median(dit.SNR['r'][0]))\n",
    "    y_z.append(np.median(dit.SNR['z'][0]))\n",
    "interpolator['b'] = interp1d(y_b, x, fill_value='extrapolate')\n",
    "interpolator['r'] = interp1d(y_r, x, fill_value='extrapolate')\n",
    "interpolator['z'] = interp1d(y_z, x, fill_value='extrapolate')\n",
    "\n",
    "print(\"To get the same SNR at the current location, required exposure is:\")\n",
    "for camera in dit.SNR:\n",
    "    print(\"--- camera {0}: {1}\".format(camera, interpolator[camera](np.median(snr[camera][0]))))\n"
   ]
  },
  {
   "cell_type": "code",
   "execution_count": null,
   "metadata": {
    "collapsed": true
   },
   "outputs": [],
   "source": []
  }
 ],
 "metadata": {
  "kernelspec": {
   "display_name": "Python 3",
   "language": "python",
   "name": "python3"
  },
  "language_info": {
   "codemirror_mode": {
    "name": "ipython",
    "version": 3
   },
   "file_extension": ".py",
   "mimetype": "text/x-python",
   "name": "python",
   "nbconvert_exporter": "python",
   "pygments_lexer": "ipython3",
   "version": "3.5.3"
  }
 },
 "nbformat": 4,
 "nbformat_minor": 2
}
