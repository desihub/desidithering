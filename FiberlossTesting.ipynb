{
 "cells": [
  {
   "cell_type": "code",
   "execution_count": null,
   "metadata": {},
   "outputs": [],
   "source": [
    "%pylab inline\n",
    "\n",
    "from astropy.io import fits\n",
    "from astropy import wcs\n",
    "\n",
    "mpl.rc('font', size=12)"
   ]
  },
  {
   "cell_type": "markdown",
   "metadata": {},
   "source": [
    "## Fiberloss Plotting\n",
    "\n",
    "Manual plotting of data in fiberloss. Not too elegant but nice for testing outside of the fiberloss plots provided in quickspecsim."
   ]
  },
  {
   "cell_type": "code",
   "execution_count": null,
   "metadata": {},
   "outputs": [],
   "source": [
    "def get_extents(header, data):\n",
    "    w = wcs.WCS(header)\n",
    "\n",
    "    nxy = len(data)\n",
    "    xlo, ylo, xhi, yhi = w.wcs_pix2world([[0, 0], [nxy - 1, nxy - 1]], 0).flatten()\n",
    "    assert xlo == ylo and xhi == yhi\n",
    "    xy = np.linspace(xlo, xhi, nxy)\n",
    "    xy_pad = header['CDELT1']\n",
    "    return [xy[0] - xy_pad, xy[-1] + xy_pad, xy[0] - xy_pad, xy[-1] + xy_pad]\n",
    "\n",
    "def plot_fiberloss(filename):\n",
    "    f = fits.open(filename)\n",
    "\n",
    "    fig, axes = plt.subplots(1, 2, figsize=(8,4))\n",
    "    wlen = []\n",
    "    \n",
    "    # Loop through all HDUs. Plot the fiber aperture and source profile.\n",
    "    # Keep track of wavelengths simulated in the data file.\n",
    "    for table in range(len(f)):\n",
    "        header = f[table].header\n",
    "    \n",
    "        if 'WLEN' in header:\n",
    "            wl = header['WLEN']\n",
    "            if wl not in wlen:\n",
    "                wlen.append(wl)\n",
    "    \n",
    "        dtype = header['COMMENT'][-1]\n",
    "        if dtype == 'Source profile':\n",
    "            ax = axes[0]\n",
    "            title = 'Source profile'\n",
    "        elif dtype == 'Fiber aperture':\n",
    "            ax = axes[1]\n",
    "            title = 'Fiber aperture'\n",
    "        else:\n",
    "            continue\n",
    "            \n",
    "        data = f[table].data\n",
    "        img = ax.imshow(data, extent=get_extents(header, data))\n",
    "        ax.set(title=title, adjustable='box-forced', aspect='equal',\n",
    "               xlabel=r'$x$ [$\\mu$m]', ylabel=r'$y$ [$\\mu$m]')\n",
    "#         cb = fig.colorbar(img, ax=ax, pad=0.01, shrink=0.7)\n",
    "        \n",
    "    fig.tight_layout();\n",
    "\n",
    "    ncol = 3\n",
    "    nrow = len(wlen)\n",
    "        \n",
    "    # Loop through simulated wavelengths and plot output.\n",
    "    dtypes = ['Atmospheric seeing model',\n",
    "              'Instrument blur model',\n",
    "              'Convolved model']\n",
    "    title = ['Atmos. seeing', 'Instrument blur', 'Convolved model']\n",
    "    \n",
    "    fig, axes = plt.subplots(nrow, ncol, figsize=(4*ncol, 4*nrow))\n",
    "    \n",
    "    isplotted = []\n",
    "    for table in range(len(f)):\n",
    "        header = f[table].header\n",
    "        dtype = header['COMMENT'][-1]\n",
    "\n",
    "        if dtype not in dtypes:\n",
    "            continue\n",
    "        if not 'WLEN' in header:\n",
    "            continue\n",
    "       \n",
    "        wl = header['WLEN']\n",
    "        i = wlen.index(wl)\n",
    "        j = dtypes.index(dtype)\n",
    "        \n",
    "        # Hack to make sure the data from one wavelength isn't plotted several times.\n",
    "        if [i,j] in isplotted:\n",
    "            continue\n",
    "        isplotted.append([i,j])\n",
    "\n",
    "        data = f[table].data\n",
    "        ax = axes[i][j]\n",
    "        img = ax.imshow(data, extent=get_extents(header, data))\n",
    "        \n",
    "        ax.set(title='{}: {:g} $\\\\mu$m'.format(title[j], wl),\n",
    "               adjustable='box-forced', aspect='equal',\n",
    "               xlabel=r'x [$\\mu$m]', ylabel=r'y [$\\mu$m]')\n",
    "        \n",
    "        cb = fig.colorbar(img, ax=ax, pad=0.01, shrink=0.7)\n",
    "            \n",
    "    fig.tight_layout();"
   ]
  },
  {
   "cell_type": "markdown",
   "metadata": {},
   "source": [
    "## Default Settings\n",
    "\n",
    "This uses the default settings in specsim/data/config/desi.yaml.\n",
    "\n",
    "Generate using\n",
    "\n",
    "    $> quickspecsim --save-fiberloss test_fiberloss"
   ]
  },
  {
   "cell_type": "code",
   "execution_count": null,
   "metadata": {},
   "outputs": [],
   "source": [
    "plot_fiberloss('test_fiberloss.fits')"
   ]
  },
  {
   "cell_type": "markdown",
   "metadata": {},
   "source": [
    "## Instrument Blur Test\n",
    "\n",
    "Turn off instrument blur, leaving all other settings alone.\n",
    "\n",
    "This requires creating a new version of $DESIMODEL/data/throughput/DESI-0347_blur.ecsv with very small values of the RMS blur vs. wavelength and ray angle. I created a new file noblur.ecsv with 1 um values in place of the nominal RMS values.\n",
    "\n",
    "Changing the defaults in a copy of desi.yaml this is generated with the command\n",
    "\n",
    "    $> quickspecsim -c desi-test.yaml -o quickspec.fits --save-fiberloss test_fiberloss_noblur"
   ]
  },
  {
   "cell_type": "code",
   "execution_count": null,
   "metadata": {},
   "outputs": [],
   "source": [
    "plot_fiberloss('test_fiberloss_noblur.fits')"
   ]
  },
  {
   "cell_type": "markdown",
   "metadata": {},
   "source": [
    "## Random Offset + Seeing Test\n",
    "\n",
    "Retain instrument PSF but remove two effects:\n",
    "1. Atmospheric scattering is turned off by setting the seeing fwhm_ref to a very small value in the YAML file. For example, I used 0.05 arcsec.\n",
    "2. Random offsets in the focal plane due to ADC polishing imperfections are turned off by setting the values in $DESIMODEL/data/throughput/DESI-0347_offset.ecsv to 0.\n",
    "\n",
    "Generate with\n",
    "\n",
    "    $> quickspecsim -c desi-test.yaml -o quickspec.fits --save-fiberloss test_fiberloss_nooffset_noseeing"
   ]
  },
  {
   "cell_type": "code",
   "execution_count": null,
   "metadata": {},
   "outputs": [],
   "source": [
    "plot_fiberloss('test_fiberloss_nooffset_noseeing.fits')"
   ]
  },
  {
   "cell_type": "markdown",
   "metadata": {},
   "source": [
    "## Instrument Blur + Random Offset + Seeing\n",
    "\n",
    "Turn off instrument blur, random focal plane offsets, and the atmosphere as described above.\n",
    "\n",
    "    $> quickspecsim -c desi-test.yaml -o quickspec.fits --save-fiberloss test_fiberloss_noblur_nooffset_noseeing"
   ]
  },
  {
   "cell_type": "code",
   "execution_count": null,
   "metadata": {},
   "outputs": [],
   "source": [
    "plot_fiberloss('test_fiberloss_noblur_nooffset_noseeing.fits')"
   ]
  },
  {
   "cell_type": "code",
   "execution_count": null,
   "metadata": {},
   "outputs": [],
   "source": [
    "plot_fiberloss('desidithering/test_dither_fiberloss.fits')"
   ]
  },
  {
   "cell_type": "code",
   "execution_count": null,
   "metadata": {
    "collapsed": true
   },
   "outputs": [],
   "source": []
  }
 ],
 "metadata": {
  "kernelspec": {
   "display_name": "Python 2",
   "language": "python",
   "name": "python2"
  },
  "language_info": {
   "codemirror_mode": {
    "name": "ipython",
    "version": 2
   },
   "file_extension": ".py",
   "mimetype": "text/x-python",
   "name": "python",
   "nbconvert_exporter": "python",
   "pygments_lexer": "ipython2",
   "version": "2.7.13"
  }
 },
 "nbformat": 4,
 "nbformat_minor": 2
}
