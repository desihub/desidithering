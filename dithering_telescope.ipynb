{
 "cells": [
  {
   "cell_type": "markdown",
   "metadata": {},
   "source": [
    "\n",
    "# Dithering Telescope\n",
    "In this notebook, one can set a sky position to look at (boresight position) and a source (with profile and position) and study the effect of possible telescope dithering on the signal-to-noise ratio (SNR).\n"
   ]
  },
  {
   "cell_type": "code",
   "execution_count": 1,
   "metadata": {
    "collapsed": true
   },
   "outputs": [],
   "source": [
    "import astropy.units as u\n",
    "import matplotlib.pyplot as plt\n",
    "import numpy as np\n",
    "import dithering"
   ]
  },
  {
   "cell_type": "markdown",
   "metadata": {},
   "source": [
    "\n",
    "After the general packages and the special package \"dithering\" is imported, one start with setting the source and boresight positions. By default, \"generate_source()\" function generates a source like a QSO. For other types of sources, you can uncomment/comment the lines below.\n"
   ]
  },
  {
   "cell_type": "markdown",
   "metadata": {},
   "source": [
    "### Constructing the object\n",
    "\n",
    "One can uncomment/comment a source below to study"
   ]
  },
  {
   "cell_type": "code",
   "execution_count": 2,
   "metadata": {
    "collapsed": true
   },
   "outputs": [],
   "source": [
    "dit    = dithering.dithering()\n",
    "# QSO\n",
    "#source = dit.generate_source(disk_fraction=0., bulge_fraction=0.)\n",
    "#source_type = 'qso'\n",
    "# ELG\n",
    "source = dit.generate_source(disk_fraction=1., bulge_fraction=0.)\n",
    "source_type = 'elg'\n",
    "# LRG\n",
    "#source = dit.generate_source(disk_fraction=0., bulge_fraction=1.)\n",
    "#source_type = 'lrg'\n",
    "dit.set_source_position(20.*u.deg, 25.*u.deg)\n",
    "dit.set_boresight_position(20.*u.deg, 24.5*u.deg)\n",
    "dit.set_focal_plane_position()"
   ]
  },
  {
   "cell_type": "markdown",
   "metadata": {},
   "source": [
    "### Calculating SNR\n",
    "Everything is internally done in the dithering package and the user only needs to run the simulation as shown below. \"report\" options prints out the SNR and the \"plot\" option plots the spectrum of the given source. For now, the source type (the first argument of the function) is not active, so it always runs for QSOs"
   ]
  },
  {
   "cell_type": "code",
   "execution_count": 3,
   "metadata": {},
   "outputs": [
    {
     "name": "stdout",
     "output_type": "stream",
     "text": [
      "boresight position is   : 20.000 deg , 24.500 deg\n",
      "source position is      : 20.000 deg , 25.000 deg\n",
      "fiber position is       : 119.067 mm , 0.178 mm\n",
      "focal plane position is : 119.067 mm , 0.178 mm\n",
      "fiber placement         : [ 0.] um, [ 0.] um\n",
      "With the current configuration, SNR are:\n",
      "-- camera b: 3.549 / 0.5 Angstrom\n",
      "-- camera z: 2.050 / 0.5 Angstrom\n",
      "-- camera r: 2.807 / 0.5 Angstrom\n"
     ]
    }
   ],
   "source": [
    "dit.run_simulation(source_type, *source, report=True)"
   ]
  },
  {
   "cell_type": "markdown",
   "metadata": {},
   "source": [
    "### Moving the telescope\n",
    "This is where the <b>magic</b> happens. The fiber is positioned at the original focal plane coordinates. When one changes the boresight position, the package automatically calculates the new focal plane coordinates along with the fiber placement offset. This offset is used to move the fiber (in turn the aperture in the fiber acceptance calculations).\n",
    "In the example below, the altitude boresight is changed by <b>0.005</b> degree. "
   ]
  },
  {
   "cell_type": "code",
   "execution_count": 4,
   "metadata": {
    "scrolled": false
   },
   "outputs": [
    {
     "name": "stdout",
     "output_type": "stream",
     "text": [
      "boresight position is   : 20.000 deg , 24.500 deg\n",
      "source position is      : 20.000 deg , 25.000 deg\n",
      "fiber position is       : 119.067 mm , 0.178 mm\n",
      "focal plane position is : 119.001 mm , 0.177 mm\n",
      "fiber placement         : [-66.14686277] um, [-0.19737797] um\n",
      "With the current configuration, SNR are:\n",
      "-- camera b: 1.132 / 0.5 Angstrom\n",
      "-- camera z: 0.637 / 0.5 Angstrom\n",
      "-- camera r: 0.881 / 0.5 Angstrom\n"
     ]
    }
   ],
   "source": [
    "dit.change_alt_az_bore_position(20.*u.deg, 24.5*u.deg+1*u.arcsec)\n",
    "dit.run_simulation(source_type, *source, report=True)"
   ]
  },
  {
   "cell_type": "markdown",
   "metadata": {},
   "source": [
    "### Rotating the positioner along $\\theta_2$\n",
    "\n",
    "If the fiber aperture is not covering the source, we may have to move the fiber around a bit to find the maximum\n",
    "The example below starts from -2 degrees and scans up to 2 degrees to find the maximum."
   ]
  },
  {
   "cell_type": "code",
   "execution_count": 5,
   "metadata": {
    "scrolled": true
   },
   "outputs": [
    {
     "data": {
      "image/png": "[encoded data removed]",
      "text/plain": [
       "<matplotlib.figure.Figure at 0x7f003f40a710>"
      ]
     },
     "metadata": {},
     "output_type": "display_data"
    }
   ],
   "source": [
    "dit.change_alt_az_bore_position(20.*u.deg, 24.5*u.deg)\n",
    "x = []\n",
    "y = []\n",
    "dit.rotate_positioner_r2(-2*u.deg)\n",
    "for i in range(80):\n",
    "    dit.rotate_positioner_r2(0.05*u.deg)\n",
    "    dit.run_simulation(source_type, *source, report=False)\n",
    "    x.append(-2+i*0.05)\n",
    "    y.append(np.median(dit.SNR['b'][0]))\n",
    "plt.plot(x, y, 'o')\n",
    "plt.xlabel(r'$\\theta_2$')\n",
    "plt.ylabel('SNR')\n",
    "plt.savefig(\"positioner_rotate.pdf\")\n",
    "plt.show()\n",
    "# reverse the rotation to the original point\n",
    "dit.rotate_positioner_r2(-2*u.deg)"
   ]
  },
  {
   "cell_type": "markdown",
   "metadata": {},
   "source": [
    "Now let's change the boresight again and observe the fiber rotation"
   ]
  },
  {
   "cell_type": "code",
   "execution_count": 6,
   "metadata": {},
   "outputs": [
    {
     "name": "stdout",
     "output_type": "stream",
     "text": [
      "boresight position is   : 20.000 deg , 24.500 deg\n",
      "source position is      : 20.000 deg , 25.000 deg\n",
      "fiber position is       : 119.067 mm , 0.178 mm\n",
      "focal plane position is : 119.001 mm , 0.107 mm\n",
      "fiber placement         : [-66.14686277] um, [-70.58971373] um\n",
      "With the current configuration, SNR are:\n",
      "-- camera b: 0.244 / 0.5 Angstrom\n",
      "-- camera z: 0.133 / 0.5 Angstrom\n",
      "-- camera r: 0.186 / 0.5 Angstrom\n"
     ]
    }
   ],
   "source": [
    "dit.change_alt_az_bore_position(20.00*u.deg+1*u.arcsec, 24.5*u.deg+1*u.arcsec)\n",
    "dit.run_simulation(source_type, *source, report=True)"
   ]
  },
  {
   "cell_type": "code",
   "execution_count": 7,
   "metadata": {
    "scrolled": false
   },
   "outputs": [
    {
     "name": "stderr",
     "output_type": "stream",
     "text": [
      "/home/tyapici/Projects/desi/code/specsim/specsim/simulator.py:552: RuntimeWarning: divide by zero encountered in true_divide\n",
      "  source_flux_to_photons.T * camera.throughput)).T\n",
      "/home/tyapici/Projects/desi/code/specsim/specsim/simulator.py:556: RuntimeWarning: invalid value encountered in multiply\n",
      "  output['flux_calibration'] * output['num_source_electrons'])\n"
     ]
    },
    {
     "data": {
      "image/png": "[encoded data removed]",
      "text/plain": [
       "<matplotlib.figure.Figure at 0x7f0040afa160>"
      ]
     },
     "metadata": {},
     "output_type": "display_data"
    }
   ],
   "source": [
    "x = []\n",
    "y = []\n",
    "dit.rotate_positioner_r2(-2*u.deg)\n",
    "for i in range(80):\n",
    "    dit.rotate_positioner_r2(0.05*u.deg)\n",
    "    dit.run_simulation(source_type, *source, report=False)\n",
    "    x.append(-2+i*0.05)\n",
    "    y.append(np.median(dit.SNR['b'][0]))\n",
    "plt.plot(x, y, 'o')\n",
    "plt.xlabel(r'$\\theta_2$')\n",
    "plt.ylabel('SNR')\n",
    "plt.savefig(\"positioner_recovery.pdf\")\n",
    "plt.show()\n",
    "# reverse the rotation to the original point\n",
    "dit.rotate_positioner_r2(-2*u.deg)"
   ]
  },
  {
   "cell_type": "code",
   "execution_count": null,
   "metadata": {
    "collapsed": true
   },
   "outputs": [],
   "source": []
  }
 ],
 "metadata": {
  "kernelspec": {
   "display_name": "Python 3",
   "language": "python",
   "name": "python3"
  },
  "language_info": {
   "codemirror_mode": {
    "name": "ipython",
    "version": 3
   },
   "file_extension": ".py",
   "mimetype": "text/x-python",
   "name": "python",
   "nbconvert_exporter": "python",
   "pygments_lexer": "ipython3",
   "version": "3.5.3"
  }
 },
 "nbformat": 4,
 "nbformat_minor": 2
}
