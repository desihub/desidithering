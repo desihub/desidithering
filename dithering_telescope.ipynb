{
 "cells": [
  {
   "cell_type": "markdown",
   "metadata": {},
   "source": [
    "# Dithering Telescope\n",
    "In this notebook, one can set a sky position to look at (boresight position) and a source (with profile and position) and study the effect of possible telescope dithering on the signal-to-noise ratio (SNR)."
   ]
  },
  {
   "cell_type": "code",
   "execution_count": 1,
   "metadata": {
    "collapsed": true
   },
   "outputs": [],
   "source": [
    "import astropy.units as u\n",
    "import matplotlib.pyplot as plt\n",
    "import dithering"
   ]
  },
  {
   "cell_type": "markdown",
   "metadata": {},
   "source": [
    "\n",
    "After the general packages and the special package \"dithering\" is imported, one start with setting the source and boresight positions. By default, \"generate_source()\" function generates a source like a QSO. For other types of sources, you can uncomment/comment the lines below.\n"
   ]
  },
  {
   "cell_type": "code",
   "execution_count": 2,
   "metadata": {
    "collapsed": true
   },
   "outputs": [],
   "source": [
    "dit    = dithering.dithering()\n",
    "source = dit.generate_source()\n",
    "dit.set_source_position(20.*u.deg, 25.*u.deg)\n",
    "dit.set_boresight_position(20.*u.deg, 24.5*u.deg)\n",
    "dit.set_focal_plane_position()"
   ]
  },
  {
   "cell_type": "markdown",
   "metadata": {},
   "source": [
    "Everything is internally done in the dithering package and the user only needs to run the simulation as shown below. \"report\" options prints out the SNR and the \"plot\" option plots the spectrum of the given source. For now, the source type (the first argument of the function) is not active, so it always runs for QSOs"
   ]
  },
  {
   "cell_type": "code",
   "execution_count": 3,
   "metadata": {},
   "outputs": [
    {
     "name": "stdout",
     "output_type": "stream",
     "text": [
      "Current boresight position is: 20.0 deg , 24.5 deg\n",
      "Current source position is: 20.0 deg , 25.0 deg\n",
      "A fiber placement offset of [0.0, 0.0] is added to simuation\n",
      "With the current configuration, SNR are:\n",
      "-- camera b: 4.707 / 0.5 Angstrom\n",
      "-- camera z: 2.805 / 0.5 Angstrom\n",
      "-- camera r: 3.815 / 0.5 Angstrom\n"
     ]
    }
   ],
   "source": [
    "dit.run_simulation('qso', *source, report=True)"
   ]
  },
  {
   "cell_type": "markdown",
   "metadata": {},
   "source": [
    "This is where the <b>magic</b> happens. The fiber is positioned at the original focal plane coordinates. When one changes the boresight position, the package automatically calculates the new focal plane coordinates along with the fiber placement offset. This offset is used to move the fiber (in turn the aperture in the fiber acceptance calculations).\n",
    "In the example below, the altitude boresight is changed by <b>0.05</b> degree. "
   ]
  },
  {
   "cell_type": "code",
   "execution_count": 4,
   "metadata": {},
   "outputs": [
    {
     "name": "stdout",
     "output_type": "stream",
     "text": [
      "Current boresight position is: 20.0 deg , 24.5 deg\n",
      "Current source position is: 20.0 deg , 25.0 deg\n",
      "A fiber placement offset of [array([ 46.98265714]), array([ 0.14724416])] is added to simuation\n",
      "With the current configuration, SNR are:\n",
      "-- camera b: 3.131 / 0.5 Angstrom\n",
      "-- camera z: 1.883 / 0.5 Angstrom\n",
      "-- camera r: 2.556 / 0.5 Angstrom\n"
     ]
    }
   ],
   "source": [
    "dit.change_alt_az_bore_position(20.*u.deg, 24.45*u.deg)\n",
    "dit.run_simulation('qso', *source, report=True)"
   ]
  }
 ],
 "metadata": {
  "kernelspec": {
   "display_name": "Python 3",
   "language": "python",
   "name": "python3"
  },
  "language_info": {
   "codemirror_mode": {
    "name": "ipython",
    "version": 3
   },
   "file_extension": ".py",
   "mimetype": "text/x-python",
   "name": "python",
   "nbconvert_exporter": "python",
   "pygments_lexer": "ipython3",
   "version": "3.5.3"
  }
 },
 "nbformat": 4,
 "nbformat_minor": 2
}
